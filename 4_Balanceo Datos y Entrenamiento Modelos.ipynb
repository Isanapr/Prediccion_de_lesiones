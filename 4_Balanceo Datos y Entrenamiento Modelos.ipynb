{
 "cells": [
  {
   "cell_type": "code",
   "execution_count": 1,
   "id": "40ae6095",
   "metadata": {},
   "outputs": [],
   "source": [
    "## IMPORTS\n",
    "\n",
    "# General\n",
    "import pandas as pd\n",
    "import numpy as np\n",
    "import matplotlib.pyplot as plt\n",
    "import seaborn as sns\n",
    "import datetime as dt\n",
    "from sklearn import preprocessing\n",
    "\n",
    "# Train Test Split\n",
    "from sklearn.model_selection import train_test_split\n",
    "# ADASYN\n",
    "from imblearn.over_sampling import ADASYN\n",
    "# RFECV imports\n",
    "from sklearn.feature_selection import RFECV\n",
    "# Parameter Optimization\n",
    "from sklearn.model_selection import GridSearchCV\n",
    "# Model imports\n",
    "from sklearn.linear_model import LogisticRegression\n",
    "from sklearn.tree import DecisionTreeClassifier\n",
    "from sklearn.ensemble import RandomForestClassifier\n",
    "\n",
    "# Evaluation Metrics\n",
    "from sklearn import metrics\n",
    "from sklearn.metrics import plot_roc_curve, auc\n",
    "from sklearn.metrics import classification_report, confusion_matrix\n",
    "\n",
    "# Visualization\n",
    "import plotly.graph_objects as go\n",
    "import plotly.figure_factory as ff\n",
    "import plotly.express as px"
   ]
  },
  {
   "cell_type": "code",
   "execution_count": 2,
   "id": "a582ac72",
   "metadata": {},
   "outputs": [],
   "source": [
    "# Generar prev_injury\n",
    "GPS_injury = pd.read_excel('C:/Users/ferbm/Desktop/Rayados/Conjutos de datos/GPS_injury_complete.xlsx')\n",
    "GPS_injury.rename(columns = {'Injury':'injury'}, inplace = True)"
   ]
  },
  {
   "cell_type": "code",
   "execution_count": 3,
   "id": "7d320379",
   "metadata": {},
   "outputs": [
    {
     "name": "stdout",
     "output_type": "stream",
     "text": [
      "<class 'pandas.core.frame.DataFrame'>\n",
      "RangeIndex: 2814 entries, 0 to 2813\n",
      "Data columns (total 53 columns):\n",
      " #   Column             Non-Null Count  Dtype         \n",
      "---  ------             --------------  -----         \n",
      " 0   Unnamed: 0         2814 non-null   int64         \n",
      " 1   Unnamed: 0.1       2814 non-null   int64         \n",
      " 2   Date               2814 non-null   datetime64[ns]\n",
      " 3   Distance(m)        2814 non-null   float64       \n",
      " 4   Dist (m/min)       2814 non-null   float64       \n",
      " 5   HMLD (m)           2814 non-null   float64       \n",
      " 6   % ALTA INTENSIDAD  2814 non-null   float64       \n",
      " 7   Distance Acc(m)    2814 non-null   float64       \n",
      " 8   Distance Dec(m)    2814 non-null   float64       \n",
      " 9   HSR Abs Dist (m)   2814 non-null   float64       \n",
      " 10  HSR Abs (m/min)    2814 non-null   float64       \n",
      " 11  Sprint Abs(m)      2814 non-null   float64       \n",
      " 12  Sprints ABS        2814 non-null   float64       \n",
      " 13  MAX Speed(km/h)    2814 non-null   float64       \n",
      " 14  Step Balance(%)    2814 non-null   float64       \n",
      " 15  Player Load        2814 non-null   float64       \n",
      " 16  Power met          2814 non-null   float64       \n",
      " 17  duration           2814 non-null   float64       \n",
      " 18  Acute_Dis          2814 non-null   float64       \n",
      " 19  Chronic_Dis        2814 non-null   float64       \n",
      " 20  ACWR_Dis           2814 non-null   float64       \n",
      " 21  EWMA_Dis           2814 non-null   float64       \n",
      " 22  Mean_Dis           2814 non-null   float64       \n",
      " 23  Std_Dis            2814 non-null   float64       \n",
      " 24  MSWR_Dis           2814 non-null   float64       \n",
      " 25  Acute_HMLD         2814 non-null   float64       \n",
      " 26  Chronic_HMLD       2814 non-null   float64       \n",
      " 27  ACWR_HMLD          2814 non-null   float64       \n",
      " 28  EWMA_HMLD          2814 non-null   float64       \n",
      " 29  Mean_HMLD          2814 non-null   float64       \n",
      " 30  Std_HMLD           2814 non-null   float64       \n",
      " 31  MSWR_HMLD          2814 non-null   float64       \n",
      " 32  Acute_HSR          2814 non-null   float64       \n",
      " 33  Chronic_HSR        2814 non-null   float64       \n",
      " 34  ACWR_HSR           2814 non-null   float64       \n",
      " 35  EWMA_HSR           2814 non-null   float64       \n",
      " 36  Mean_HSR           2814 non-null   float64       \n",
      " 37  Std_HSR            2814 non-null   float64       \n",
      " 38  MSWR_HSR           2814 non-null   float64       \n",
      " 39  Acute_PowerM       2814 non-null   float64       \n",
      " 40  Chronic_PowerM     2814 non-null   float64       \n",
      " 41  ACWR_PowerM        2814 non-null   float64       \n",
      " 42  EWMA_PowerM        2814 non-null   float64       \n",
      " 43  Mean_PowerM        2814 non-null   float64       \n",
      " 44  Std_PowerM         2814 non-null   float64       \n",
      " 45  MSWR_PowerM        2814 non-null   float64       \n",
      " 46  Player             2814 non-null   object        \n",
      " 47  Talla              2814 non-null   float64       \n",
      " 48  Peso               2814 non-null   float64       \n",
      " 49  Edad               2814 non-null   int64         \n",
      " 50  Rol                2814 non-null   int64         \n",
      " 51  prev_injury        2814 non-null   int64         \n",
      " 52  injury             2814 non-null   int64         \n",
      "dtypes: datetime64[ns](1), float64(45), int64(6), object(1)\n",
      "memory usage: 1.1+ MB\n"
     ]
    }
   ],
   "source": [
    "GPS_injury.info()"
   ]
  },
  {
   "cell_type": "code",
   "execution_count": 4,
   "id": "a16b1a0e",
   "metadata": {},
   "outputs": [
    {
     "data": {
      "text/html": [
       "<div>\n",
       "<style scoped>\n",
       "    .dataframe tbody tr th:only-of-type {\n",
       "        vertical-align: middle;\n",
       "    }\n",
       "\n",
       "    .dataframe tbody tr th {\n",
       "        vertical-align: top;\n",
       "    }\n",
       "\n",
       "    .dataframe thead th {\n",
       "        text-align: right;\n",
       "    }\n",
       "</style>\n",
       "<table border=\"1\" class=\"dataframe\">\n",
       "  <thead>\n",
       "    <tr style=\"text-align: right;\">\n",
       "      <th></th>\n",
       "      <th>count</th>\n",
       "      <th>mean</th>\n",
       "      <th>std</th>\n",
       "      <th>min</th>\n",
       "      <th>25%</th>\n",
       "      <th>50%</th>\n",
       "      <th>75%</th>\n",
       "      <th>max</th>\n",
       "    </tr>\n",
       "  </thead>\n",
       "  <tbody>\n",
       "    <tr>\n",
       "      <th>Unnamed: 0</th>\n",
       "      <td>2814.0</td>\n",
       "      <td>1406.500000</td>\n",
       "      <td>812.476153</td>\n",
       "      <td>0.000000e+00</td>\n",
       "      <td>7.032500e+02</td>\n",
       "      <td>1406.500000</td>\n",
       "      <td>2109.750000</td>\n",
       "      <td>2.813000e+03</td>\n",
       "    </tr>\n",
       "    <tr>\n",
       "      <th>Unnamed: 0.1</th>\n",
       "      <td>2814.0</td>\n",
       "      <td>1540.500000</td>\n",
       "      <td>812.476153</td>\n",
       "      <td>1.340000e+02</td>\n",
       "      <td>8.372500e+02</td>\n",
       "      <td>1540.500000</td>\n",
       "      <td>2243.750000</td>\n",
       "      <td>2.947000e+03</td>\n",
       "    </tr>\n",
       "    <tr>\n",
       "      <th>Distance(m)</th>\n",
       "      <td>2814.0</td>\n",
       "      <td>1654.856496</td>\n",
       "      <td>1831.493770</td>\n",
       "      <td>0.000000e+00</td>\n",
       "      <td>0.000000e+00</td>\n",
       "      <td>0.000000</td>\n",
       "      <td>3382.301736</td>\n",
       "      <td>7.077100e+03</td>\n",
       "    </tr>\n",
       "    <tr>\n",
       "      <th>Dist (m/min)</th>\n",
       "      <td>2814.0</td>\n",
       "      <td>34.810460</td>\n",
       "      <td>37.155154</td>\n",
       "      <td>0.000000e+00</td>\n",
       "      <td>0.000000e+00</td>\n",
       "      <td>0.000000</td>\n",
       "      <td>70.355327</td>\n",
       "      <td>1.155211e+02</td>\n",
       "    </tr>\n",
       "    <tr>\n",
       "      <th>HMLD (m)</th>\n",
       "      <td>2814.0</td>\n",
       "      <td>231.695503</td>\n",
       "      <td>314.937578</td>\n",
       "      <td>0.000000e+00</td>\n",
       "      <td>0.000000e+00</td>\n",
       "      <td>0.000000</td>\n",
       "      <td>450.005250</td>\n",
       "      <td>1.417265e+03</td>\n",
       "    </tr>\n",
       "    <tr>\n",
       "      <th>% ALTA INTENSIDAD</th>\n",
       "      <td>2814.0</td>\n",
       "      <td>0.061589</td>\n",
       "      <td>0.071867</td>\n",
       "      <td>0.000000e+00</td>\n",
       "      <td>0.000000e+00</td>\n",
       "      <td>0.000000</td>\n",
       "      <td>0.127411</td>\n",
       "      <td>2.680120e-01</td>\n",
       "    </tr>\n",
       "    <tr>\n",
       "      <th>Distance Acc(m)</th>\n",
       "      <td>2814.0</td>\n",
       "      <td>74.405134</td>\n",
       "      <td>103.401163</td>\n",
       "      <td>0.000000e+00</td>\n",
       "      <td>0.000000e+00</td>\n",
       "      <td>0.000000</td>\n",
       "      <td>130.572000</td>\n",
       "      <td>4.396900e+02</td>\n",
       "    </tr>\n",
       "    <tr>\n",
       "      <th>Distance Dec(m)</th>\n",
       "      <td>2814.0</td>\n",
       "      <td>56.285014</td>\n",
       "      <td>79.858592</td>\n",
       "      <td>0.000000e+00</td>\n",
       "      <td>0.000000e+00</td>\n",
       "      <td>0.000000</td>\n",
       "      <td>110.697250</td>\n",
       "      <td>3.623810e+02</td>\n",
       "    </tr>\n",
       "    <tr>\n",
       "      <th>HSR Abs Dist (m)</th>\n",
       "      <td>2814.0</td>\n",
       "      <td>48.748621</td>\n",
       "      <td>88.147216</td>\n",
       "      <td>0.000000e+00</td>\n",
       "      <td>0.000000e+00</td>\n",
       "      <td>0.000000</td>\n",
       "      <td>71.036750</td>\n",
       "      <td>4.347470e+02</td>\n",
       "    </tr>\n",
       "    <tr>\n",
       "      <th>HSR Abs (m/min)</th>\n",
       "      <td>2814.0</td>\n",
       "      <td>2.135345</td>\n",
       "      <td>4.027871</td>\n",
       "      <td>0.000000e+00</td>\n",
       "      <td>0.000000e+00</td>\n",
       "      <td>0.000000</td>\n",
       "      <td>3.000000</td>\n",
       "      <td>2.169000e+01</td>\n",
       "    </tr>\n",
       "    <tr>\n",
       "      <th>Sprint Abs(m)</th>\n",
       "      <td>2814.0</td>\n",
       "      <td>14.950154</td>\n",
       "      <td>30.713334</td>\n",
       "      <td>0.000000e+00</td>\n",
       "      <td>0.000000e+00</td>\n",
       "      <td>0.000000</td>\n",
       "      <td>16.307500</td>\n",
       "      <td>1.587000e+02</td>\n",
       "    </tr>\n",
       "    <tr>\n",
       "      <th>Sprints ABS</th>\n",
       "      <td>2814.0</td>\n",
       "      <td>1.360708</td>\n",
       "      <td>2.002521</td>\n",
       "      <td>0.000000e+00</td>\n",
       "      <td>0.000000e+00</td>\n",
       "      <td>1.000000</td>\n",
       "      <td>1.000000</td>\n",
       "      <td>1.000000e+01</td>\n",
       "    </tr>\n",
       "    <tr>\n",
       "      <th>MAX Speed(km/h)</th>\n",
       "      <td>2814.0</td>\n",
       "      <td>12.500965</td>\n",
       "      <td>12.896728</td>\n",
       "      <td>0.000000e+00</td>\n",
       "      <td>0.000000e+00</td>\n",
       "      <td>0.000000</td>\n",
       "      <td>25.317500</td>\n",
       "      <td>3.566000e+01</td>\n",
       "    </tr>\n",
       "    <tr>\n",
       "      <th>Step Balance(%)</th>\n",
       "      <td>2814.0</td>\n",
       "      <td>0.014332</td>\n",
       "      <td>0.967262</td>\n",
       "      <td>-1.975000e-01</td>\n",
       "      <td>-7.300000e-03</td>\n",
       "      <td>0.000000</td>\n",
       "      <td>0.000000</td>\n",
       "      <td>5.129900e+01</td>\n",
       "    </tr>\n",
       "    <tr>\n",
       "      <th>Player Load</th>\n",
       "      <td>2814.0</td>\n",
       "      <td>24.774678</td>\n",
       "      <td>28.326972</td>\n",
       "      <td>0.000000e+00</td>\n",
       "      <td>0.000000e+00</td>\n",
       "      <td>0.000000</td>\n",
       "      <td>49.631000</td>\n",
       "      <td>1.111280e+02</td>\n",
       "    </tr>\n",
       "    <tr>\n",
       "      <th>Power met</th>\n",
       "      <td>2814.0</td>\n",
       "      <td>4391.476206</td>\n",
       "      <td>5024.954438</td>\n",
       "      <td>0.000000e+00</td>\n",
       "      <td>0.000000e+00</td>\n",
       "      <td>0.000000</td>\n",
       "      <td>8900.246000</td>\n",
       "      <td>2.000279e+04</td>\n",
       "    </tr>\n",
       "    <tr>\n",
       "      <th>duration</th>\n",
       "      <td>2814.0</td>\n",
       "      <td>1617.086934</td>\n",
       "      <td>1781.249424</td>\n",
       "      <td>0.000000e+00</td>\n",
       "      <td>0.000000e+00</td>\n",
       "      <td>0.000000</td>\n",
       "      <td>3247.155109</td>\n",
       "      <td>5.944000e+03</td>\n",
       "    </tr>\n",
       "    <tr>\n",
       "      <th>Acute_Dis</th>\n",
       "      <td>2814.0</td>\n",
       "      <td>1602.904182</td>\n",
       "      <td>1135.419971</td>\n",
       "      <td>-2.598556e-13</td>\n",
       "      <td>3.212321e+02</td>\n",
       "      <td>1926.471931</td>\n",
       "      <td>2494.875462</td>\n",
       "      <td>4.102743e+03</td>\n",
       "    </tr>\n",
       "    <tr>\n",
       "      <th>Chronic_Dis</th>\n",
       "      <td>2814.0</td>\n",
       "      <td>1344.269868</td>\n",
       "      <td>984.098046</td>\n",
       "      <td>0.000000e+00</td>\n",
       "      <td>1.915536e+02</td>\n",
       "      <td>1420.880512</td>\n",
       "      <td>2266.402664</td>\n",
       "      <td>3.430196e+03</td>\n",
       "    </tr>\n",
       "    <tr>\n",
       "      <th>ACWR_Dis</th>\n",
       "      <td>2814.0</td>\n",
       "      <td>NaN</td>\n",
       "      <td>NaN</td>\n",
       "      <td>-inf</td>\n",
       "      <td>0.000000e+00</td>\n",
       "      <td>0.843910</td>\n",
       "      <td>1.214369</td>\n",
       "      <td>inf</td>\n",
       "    </tr>\n",
       "    <tr>\n",
       "      <th>EWMA_Dis</th>\n",
       "      <td>2814.0</td>\n",
       "      <td>1650.546023</td>\n",
       "      <td>1139.716253</td>\n",
       "      <td>0.000000e+00</td>\n",
       "      <td>4.770475e+02</td>\n",
       "      <td>1883.815270</td>\n",
       "      <td>2570.220009</td>\n",
       "      <td>4.420964e+03</td>\n",
       "    </tr>\n",
       "    <tr>\n",
       "      <th>Mean_Dis</th>\n",
       "      <td>2814.0</td>\n",
       "      <td>1602.904182</td>\n",
       "      <td>1135.419971</td>\n",
       "      <td>-2.598556e-13</td>\n",
       "      <td>3.212321e+02</td>\n",
       "      <td>1926.471931</td>\n",
       "      <td>2494.875462</td>\n",
       "      <td>4.102743e+03</td>\n",
       "    </tr>\n",
       "    <tr>\n",
       "      <th>Std_Dis</th>\n",
       "      <td>2814.0</td>\n",
       "      <td>1304.331438</td>\n",
       "      <td>822.066938</td>\n",
       "      <td>0.000000e+00</td>\n",
       "      <td>7.281380e+02</td>\n",
       "      <td>1530.960236</td>\n",
       "      <td>1884.481905</td>\n",
       "      <td>2.937910e+03</td>\n",
       "    </tr>\n",
       "    <tr>\n",
       "      <th>MSWR_Dis</th>\n",
       "      <td>2814.0</td>\n",
       "      <td>inf</td>\n",
       "      <td>NaN</td>\n",
       "      <td>-4.257475e-09</td>\n",
       "      <td>3.779645e-01</td>\n",
       "      <td>0.996006</td>\n",
       "      <td>1.457295</td>\n",
       "      <td>inf</td>\n",
       "    </tr>\n",
       "    <tr>\n",
       "      <th>Acute_HMLD</th>\n",
       "      <td>2814.0</td>\n",
       "      <td>224.254585</td>\n",
       "      <td>173.096411</td>\n",
       "      <td>-1.624098e-14</td>\n",
       "      <td>3.173414e+01</td>\n",
       "      <td>242.558714</td>\n",
       "      <td>353.557000</td>\n",
       "      <td>7.397261e+02</td>\n",
       "    </tr>\n",
       "    <tr>\n",
       "      <th>Chronic_HMLD</th>\n",
       "      <td>2814.0</td>\n",
       "      <td>187.187208</td>\n",
       "      <td>144.981793</td>\n",
       "      <td>0.000000e+00</td>\n",
       "      <td>2.745387e+01</td>\n",
       "      <td>186.049771</td>\n",
       "      <td>309.090906</td>\n",
       "      <td>5.871851e+02</td>\n",
       "    </tr>\n",
       "    <tr>\n",
       "      <th>ACWR_HMLD</th>\n",
       "      <td>2814.0</td>\n",
       "      <td>0.841706</td>\n",
       "      <td>0.909607</td>\n",
       "      <td>-9.316799e-16</td>\n",
       "      <td>0.000000e+00</td>\n",
       "      <td>0.775213</td>\n",
       "      <td>1.199015</td>\n",
       "      <td>4.000000e+00</td>\n",
       "    </tr>\n",
       "    <tr>\n",
       "      <th>EWMA_HMLD</th>\n",
       "      <td>2814.0</td>\n",
       "      <td>231.233693</td>\n",
       "      <td>176.101323</td>\n",
       "      <td>0.000000e+00</td>\n",
       "      <td>5.580297e+01</td>\n",
       "      <td>236.046341</td>\n",
       "      <td>360.415307</td>\n",
       "      <td>8.379916e+02</td>\n",
       "    </tr>\n",
       "    <tr>\n",
       "      <th>Mean_HMLD</th>\n",
       "      <td>2814.0</td>\n",
       "      <td>224.254585</td>\n",
       "      <td>173.096411</td>\n",
       "      <td>-1.624098e-14</td>\n",
       "      <td>3.173414e+01</td>\n",
       "      <td>242.558714</td>\n",
       "      <td>353.557000</td>\n",
       "      <td>7.397261e+02</td>\n",
       "    </tr>\n",
       "    <tr>\n",
       "      <th>Std_HMLD</th>\n",
       "      <td>2814.0</td>\n",
       "      <td>230.757545</td>\n",
       "      <td>161.759647</td>\n",
       "      <td>0.000000e+00</td>\n",
       "      <td>7.980002e+01</td>\n",
       "      <td>242.800100</td>\n",
       "      <td>355.404953</td>\n",
       "      <td>6.301502e+02</td>\n",
       "    </tr>\n",
       "    <tr>\n",
       "      <th>MSWR_HMLD</th>\n",
       "      <td>2814.0</td>\n",
       "      <td>inf</td>\n",
       "      <td>NaN</td>\n",
       "      <td>-2.787171e-09</td>\n",
       "      <td>3.779645e-01</td>\n",
       "      <td>0.788524</td>\n",
       "      <td>1.086526</td>\n",
       "      <td>inf</td>\n",
       "    </tr>\n",
       "    <tr>\n",
       "      <th>Acute_HSR</th>\n",
       "      <td>2814.0</td>\n",
       "      <td>46.862471</td>\n",
       "      <td>41.644334</td>\n",
       "      <td>-1.624098e-14</td>\n",
       "      <td>8.120488e-15</td>\n",
       "      <td>43.525444</td>\n",
       "      <td>77.882750</td>\n",
       "      <td>1.823671e+02</td>\n",
       "    </tr>\n",
       "    <tr>\n",
       "      <th>Chronic_HSR</th>\n",
       "      <td>2814.0</td>\n",
       "      <td>39.030217</td>\n",
       "      <td>32.129379</td>\n",
       "      <td>0.000000e+00</td>\n",
       "      <td>3.496327e+00</td>\n",
       "      <td>38.606975</td>\n",
       "      <td>63.840059</td>\n",
       "      <td>1.250807e+02</td>\n",
       "    </tr>\n",
       "    <tr>\n",
       "      <th>ACWR_HSR</th>\n",
       "      <td>2814.0</td>\n",
       "      <td>inf</td>\n",
       "      <td>NaN</td>\n",
       "      <td>-3.084689e-16</td>\n",
       "      <td>0.000000e+00</td>\n",
       "      <td>0.699012</td>\n",
       "      <td>1.257815</td>\n",
       "      <td>inf</td>\n",
       "    </tr>\n",
       "    <tr>\n",
       "      <th>EWMA_HSR</th>\n",
       "      <td>2814.0</td>\n",
       "      <td>49.126518</td>\n",
       "      <td>44.372398</td>\n",
       "      <td>0.000000e+00</td>\n",
       "      <td>7.128456e+00</td>\n",
       "      <td>42.226031</td>\n",
       "      <td>77.359314</td>\n",
       "      <td>2.658152e+02</td>\n",
       "    </tr>\n",
       "    <tr>\n",
       "      <th>Mean_HSR</th>\n",
       "      <td>2814.0</td>\n",
       "      <td>46.862471</td>\n",
       "      <td>41.644334</td>\n",
       "      <td>-1.624098e-14</td>\n",
       "      <td>8.120488e-15</td>\n",
       "      <td>43.525444</td>\n",
       "      <td>77.882750</td>\n",
       "      <td>1.823671e+02</td>\n",
       "    </tr>\n",
       "    <tr>\n",
       "      <th>Std_HSR</th>\n",
       "      <td>2814.0</td>\n",
       "      <td>63.801708</td>\n",
       "      <td>52.330920</td>\n",
       "      <td>0.000000e+00</td>\n",
       "      <td>5.394797e-06</td>\n",
       "      <td>61.434184</td>\n",
       "      <td>106.599468</td>\n",
       "      <td>1.975132e+02</td>\n",
       "    </tr>\n",
       "    <tr>\n",
       "      <th>MSWR_HSR</th>\n",
       "      <td>2814.0</td>\n",
       "      <td>NaN</td>\n",
       "      <td>NaN</td>\n",
       "      <td>-inf</td>\n",
       "      <td>3.779645e-01</td>\n",
       "      <td>0.597447</td>\n",
       "      <td>0.804379</td>\n",
       "      <td>inf</td>\n",
       "    </tr>\n",
       "    <tr>\n",
       "      <th>Acute_PowerM</th>\n",
       "      <td>2814.0</td>\n",
       "      <td>4250.974172</td>\n",
       "      <td>3094.402794</td>\n",
       "      <td>0.000000e+00</td>\n",
       "      <td>8.279979e+02</td>\n",
       "      <td>4901.410730</td>\n",
       "      <td>6636.444226</td>\n",
       "      <td>1.234452e+04</td>\n",
       "    </tr>\n",
       "    <tr>\n",
       "      <th>Chronic_PowerM</th>\n",
       "      <td>2814.0</td>\n",
       "      <td>3593.622428</td>\n",
       "      <td>2662.418702</td>\n",
       "      <td>0.000000e+00</td>\n",
       "      <td>4.770825e+02</td>\n",
       "      <td>3722.016583</td>\n",
       "      <td>6004.465915</td>\n",
       "      <td>1.008397e+04</td>\n",
       "    </tr>\n",
       "    <tr>\n",
       "      <th>ACWR_PowerM</th>\n",
       "      <td>2814.0</td>\n",
       "      <td>0.850202</td>\n",
       "      <td>0.892462</td>\n",
       "      <td>0.000000e+00</td>\n",
       "      <td>0.000000e+00</td>\n",
       "      <td>0.824612</td>\n",
       "      <td>1.213451</td>\n",
       "      <td>4.000000e+00</td>\n",
       "    </tr>\n",
       "    <tr>\n",
       "      <th>EWMA_PowerM</th>\n",
       "      <td>2814.0</td>\n",
       "      <td>4380.945305</td>\n",
       "      <td>3104.795782</td>\n",
       "      <td>0.000000e+00</td>\n",
       "      <td>1.235876e+03</td>\n",
       "      <td>4855.460256</td>\n",
       "      <td>6779.253308</td>\n",
       "      <td>1.372460e+04</td>\n",
       "    </tr>\n",
       "    <tr>\n",
       "      <th>Mean_PowerM</th>\n",
       "      <td>2814.0</td>\n",
       "      <td>4250.974172</td>\n",
       "      <td>3094.402794</td>\n",
       "      <td>0.000000e+00</td>\n",
       "      <td>8.279979e+02</td>\n",
       "      <td>4901.410730</td>\n",
       "      <td>6636.444226</td>\n",
       "      <td>1.234452e+04</td>\n",
       "    </tr>\n",
       "    <tr>\n",
       "      <th>Std_PowerM</th>\n",
       "      <td>2814.0</td>\n",
       "      <td>3579.486347</td>\n",
       "      <td>2281.531756</td>\n",
       "      <td>0.000000e+00</td>\n",
       "      <td>1.879537e+03</td>\n",
       "      <td>4167.368310</td>\n",
       "      <td>5243.879973</td>\n",
       "      <td>8.361006e+03</td>\n",
       "    </tr>\n",
       "    <tr>\n",
       "      <th>MSWR_PowerM</th>\n",
       "      <td>2814.0</td>\n",
       "      <td>0.934484</td>\n",
       "      <td>0.758019</td>\n",
       "      <td>0.000000e+00</td>\n",
       "      <td>3.779645e-01</td>\n",
       "      <td>0.962061</td>\n",
       "      <td>1.395351</td>\n",
       "      <td>7.226085e+00</td>\n",
       "    </tr>\n",
       "    <tr>\n",
       "      <th>Talla</th>\n",
       "      <td>2814.0</td>\n",
       "      <td>177.680952</td>\n",
       "      <td>6.139465</td>\n",
       "      <td>1.670000e+02</td>\n",
       "      <td>1.742000e+02</td>\n",
       "      <td>177.400000</td>\n",
       "      <td>181.100000</td>\n",
       "      <td>1.955000e+02</td>\n",
       "    </tr>\n",
       "    <tr>\n",
       "      <th>Peso</th>\n",
       "      <td>2814.0</td>\n",
       "      <td>75.657143</td>\n",
       "      <td>6.400212</td>\n",
       "      <td>6.500000e+01</td>\n",
       "      <td>7.160000e+01</td>\n",
       "      <td>74.900000</td>\n",
       "      <td>79.300000</td>\n",
       "      <td>8.920000e+01</td>\n",
       "    </tr>\n",
       "    <tr>\n",
       "      <th>Edad</th>\n",
       "      <td>2814.0</td>\n",
       "      <td>26.857143</td>\n",
       "      <td>3.629704</td>\n",
       "      <td>2.100000e+01</td>\n",
       "      <td>2.500000e+01</td>\n",
       "      <td>26.000000</td>\n",
       "      <td>30.000000</td>\n",
       "      <td>3.400000e+01</td>\n",
       "    </tr>\n",
       "    <tr>\n",
       "      <th>Rol</th>\n",
       "      <td>2814.0</td>\n",
       "      <td>0.952381</td>\n",
       "      <td>0.898634</td>\n",
       "      <td>0.000000e+00</td>\n",
       "      <td>0.000000e+00</td>\n",
       "      <td>1.000000</td>\n",
       "      <td>2.000000</td>\n",
       "      <td>2.000000e+00</td>\n",
       "    </tr>\n",
       "    <tr>\n",
       "      <th>prev_injury</th>\n",
       "      <td>2814.0</td>\n",
       "      <td>1.269367</td>\n",
       "      <td>1.537749</td>\n",
       "      <td>0.000000e+00</td>\n",
       "      <td>0.000000e+00</td>\n",
       "      <td>1.000000</td>\n",
       "      <td>2.000000</td>\n",
       "      <td>6.000000e+00</td>\n",
       "    </tr>\n",
       "    <tr>\n",
       "      <th>injury</th>\n",
       "      <td>2814.0</td>\n",
       "      <td>0.003909</td>\n",
       "      <td>0.062411</td>\n",
       "      <td>0.000000e+00</td>\n",
       "      <td>0.000000e+00</td>\n",
       "      <td>0.000000</td>\n",
       "      <td>0.000000</td>\n",
       "      <td>1.000000e+00</td>\n",
       "    </tr>\n",
       "  </tbody>\n",
       "</table>\n",
       "</div>"
      ],
      "text/plain": [
       "                    count         mean          std           min  \\\n",
       "Unnamed: 0         2814.0  1406.500000   812.476153  0.000000e+00   \n",
       "Unnamed: 0.1       2814.0  1540.500000   812.476153  1.340000e+02   \n",
       "Distance(m)        2814.0  1654.856496  1831.493770  0.000000e+00   \n",
       "Dist (m/min)       2814.0    34.810460    37.155154  0.000000e+00   \n",
       "HMLD (m)           2814.0   231.695503   314.937578  0.000000e+00   \n",
       "% ALTA INTENSIDAD  2814.0     0.061589     0.071867  0.000000e+00   \n",
       "Distance Acc(m)    2814.0    74.405134   103.401163  0.000000e+00   \n",
       "Distance Dec(m)    2814.0    56.285014    79.858592  0.000000e+00   \n",
       "HSR Abs Dist (m)   2814.0    48.748621    88.147216  0.000000e+00   \n",
       "HSR Abs (m/min)    2814.0     2.135345     4.027871  0.000000e+00   \n",
       "Sprint Abs(m)      2814.0    14.950154    30.713334  0.000000e+00   \n",
       "Sprints ABS        2814.0     1.360708     2.002521  0.000000e+00   \n",
       "MAX Speed(km/h)    2814.0    12.500965    12.896728  0.000000e+00   \n",
       "Step Balance(%)    2814.0     0.014332     0.967262 -1.975000e-01   \n",
       "Player Load        2814.0    24.774678    28.326972  0.000000e+00   \n",
       "Power met          2814.0  4391.476206  5024.954438  0.000000e+00   \n",
       "duration           2814.0  1617.086934  1781.249424  0.000000e+00   \n",
       "Acute_Dis          2814.0  1602.904182  1135.419971 -2.598556e-13   \n",
       "Chronic_Dis        2814.0  1344.269868   984.098046  0.000000e+00   \n",
       "ACWR_Dis           2814.0          NaN          NaN          -inf   \n",
       "EWMA_Dis           2814.0  1650.546023  1139.716253  0.000000e+00   \n",
       "Mean_Dis           2814.0  1602.904182  1135.419971 -2.598556e-13   \n",
       "Std_Dis            2814.0  1304.331438   822.066938  0.000000e+00   \n",
       "MSWR_Dis           2814.0          inf          NaN -4.257475e-09   \n",
       "Acute_HMLD         2814.0   224.254585   173.096411 -1.624098e-14   \n",
       "Chronic_HMLD       2814.0   187.187208   144.981793  0.000000e+00   \n",
       "ACWR_HMLD          2814.0     0.841706     0.909607 -9.316799e-16   \n",
       "EWMA_HMLD          2814.0   231.233693   176.101323  0.000000e+00   \n",
       "Mean_HMLD          2814.0   224.254585   173.096411 -1.624098e-14   \n",
       "Std_HMLD           2814.0   230.757545   161.759647  0.000000e+00   \n",
       "MSWR_HMLD          2814.0          inf          NaN -2.787171e-09   \n",
       "Acute_HSR          2814.0    46.862471    41.644334 -1.624098e-14   \n",
       "Chronic_HSR        2814.0    39.030217    32.129379  0.000000e+00   \n",
       "ACWR_HSR           2814.0          inf          NaN -3.084689e-16   \n",
       "EWMA_HSR           2814.0    49.126518    44.372398  0.000000e+00   \n",
       "Mean_HSR           2814.0    46.862471    41.644334 -1.624098e-14   \n",
       "Std_HSR            2814.0    63.801708    52.330920  0.000000e+00   \n",
       "MSWR_HSR           2814.0          NaN          NaN          -inf   \n",
       "Acute_PowerM       2814.0  4250.974172  3094.402794  0.000000e+00   \n",
       "Chronic_PowerM     2814.0  3593.622428  2662.418702  0.000000e+00   \n",
       "ACWR_PowerM        2814.0     0.850202     0.892462  0.000000e+00   \n",
       "EWMA_PowerM        2814.0  4380.945305  3104.795782  0.000000e+00   \n",
       "Mean_PowerM        2814.0  4250.974172  3094.402794  0.000000e+00   \n",
       "Std_PowerM         2814.0  3579.486347  2281.531756  0.000000e+00   \n",
       "MSWR_PowerM        2814.0     0.934484     0.758019  0.000000e+00   \n",
       "Talla              2814.0   177.680952     6.139465  1.670000e+02   \n",
       "Peso               2814.0    75.657143     6.400212  6.500000e+01   \n",
       "Edad               2814.0    26.857143     3.629704  2.100000e+01   \n",
       "Rol                2814.0     0.952381     0.898634  0.000000e+00   \n",
       "prev_injury        2814.0     1.269367     1.537749  0.000000e+00   \n",
       "injury             2814.0     0.003909     0.062411  0.000000e+00   \n",
       "\n",
       "                            25%          50%          75%           max  \n",
       "Unnamed: 0         7.032500e+02  1406.500000  2109.750000  2.813000e+03  \n",
       "Unnamed: 0.1       8.372500e+02  1540.500000  2243.750000  2.947000e+03  \n",
       "Distance(m)        0.000000e+00     0.000000  3382.301736  7.077100e+03  \n",
       "Dist (m/min)       0.000000e+00     0.000000    70.355327  1.155211e+02  \n",
       "HMLD (m)           0.000000e+00     0.000000   450.005250  1.417265e+03  \n",
       "% ALTA INTENSIDAD  0.000000e+00     0.000000     0.127411  2.680120e-01  \n",
       "Distance Acc(m)    0.000000e+00     0.000000   130.572000  4.396900e+02  \n",
       "Distance Dec(m)    0.000000e+00     0.000000   110.697250  3.623810e+02  \n",
       "HSR Abs Dist (m)   0.000000e+00     0.000000    71.036750  4.347470e+02  \n",
       "HSR Abs (m/min)    0.000000e+00     0.000000     3.000000  2.169000e+01  \n",
       "Sprint Abs(m)      0.000000e+00     0.000000    16.307500  1.587000e+02  \n",
       "Sprints ABS        0.000000e+00     1.000000     1.000000  1.000000e+01  \n",
       "MAX Speed(km/h)    0.000000e+00     0.000000    25.317500  3.566000e+01  \n",
       "Step Balance(%)   -7.300000e-03     0.000000     0.000000  5.129900e+01  \n",
       "Player Load        0.000000e+00     0.000000    49.631000  1.111280e+02  \n",
       "Power met          0.000000e+00     0.000000  8900.246000  2.000279e+04  \n",
       "duration           0.000000e+00     0.000000  3247.155109  5.944000e+03  \n",
       "Acute_Dis          3.212321e+02  1926.471931  2494.875462  4.102743e+03  \n",
       "Chronic_Dis        1.915536e+02  1420.880512  2266.402664  3.430196e+03  \n",
       "ACWR_Dis           0.000000e+00     0.843910     1.214369           inf  \n",
       "EWMA_Dis           4.770475e+02  1883.815270  2570.220009  4.420964e+03  \n",
       "Mean_Dis           3.212321e+02  1926.471931  2494.875462  4.102743e+03  \n",
       "Std_Dis            7.281380e+02  1530.960236  1884.481905  2.937910e+03  \n",
       "MSWR_Dis           3.779645e-01     0.996006     1.457295           inf  \n",
       "Acute_HMLD         3.173414e+01   242.558714   353.557000  7.397261e+02  \n",
       "Chronic_HMLD       2.745387e+01   186.049771   309.090906  5.871851e+02  \n",
       "ACWR_HMLD          0.000000e+00     0.775213     1.199015  4.000000e+00  \n",
       "EWMA_HMLD          5.580297e+01   236.046341   360.415307  8.379916e+02  \n",
       "Mean_HMLD          3.173414e+01   242.558714   353.557000  7.397261e+02  \n",
       "Std_HMLD           7.980002e+01   242.800100   355.404953  6.301502e+02  \n",
       "MSWR_HMLD          3.779645e-01     0.788524     1.086526           inf  \n",
       "Acute_HSR          8.120488e-15    43.525444    77.882750  1.823671e+02  \n",
       "Chronic_HSR        3.496327e+00    38.606975    63.840059  1.250807e+02  \n",
       "ACWR_HSR           0.000000e+00     0.699012     1.257815           inf  \n",
       "EWMA_HSR           7.128456e+00    42.226031    77.359314  2.658152e+02  \n",
       "Mean_HSR           8.120488e-15    43.525444    77.882750  1.823671e+02  \n",
       "Std_HSR            5.394797e-06    61.434184   106.599468  1.975132e+02  \n",
       "MSWR_HSR           3.779645e-01     0.597447     0.804379           inf  \n",
       "Acute_PowerM       8.279979e+02  4901.410730  6636.444226  1.234452e+04  \n",
       "Chronic_PowerM     4.770825e+02  3722.016583  6004.465915  1.008397e+04  \n",
       "ACWR_PowerM        0.000000e+00     0.824612     1.213451  4.000000e+00  \n",
       "EWMA_PowerM        1.235876e+03  4855.460256  6779.253308  1.372460e+04  \n",
       "Mean_PowerM        8.279979e+02  4901.410730  6636.444226  1.234452e+04  \n",
       "Std_PowerM         1.879537e+03  4167.368310  5243.879973  8.361006e+03  \n",
       "MSWR_PowerM        3.779645e-01     0.962061     1.395351  7.226085e+00  \n",
       "Talla              1.742000e+02   177.400000   181.100000  1.955000e+02  \n",
       "Peso               7.160000e+01    74.900000    79.300000  8.920000e+01  \n",
       "Edad               2.500000e+01    26.000000    30.000000  3.400000e+01  \n",
       "Rol                0.000000e+00     1.000000     2.000000  2.000000e+00  \n",
       "prev_injury        0.000000e+00     1.000000     2.000000  6.000000e+00  \n",
       "injury             0.000000e+00     0.000000     0.000000  1.000000e+00  "
      ]
     },
     "execution_count": 4,
     "metadata": {},
     "output_type": "execute_result"
    }
   ],
   "source": [
    "GPS_injury.describe().T"
   ]
  },
  {
   "cell_type": "code",
   "execution_count": 5,
   "id": "2eb1b53d",
   "metadata": {},
   "outputs": [],
   "source": [
    "GPS_injury = GPS_injury.drop(['Unnamed: 0', 'Unnamed: 0.1', 'Date'], axis=1)"
   ]
  },
  {
   "cell_type": "code",
   "execution_count": 6,
   "id": "111003dd",
   "metadata": {},
   "outputs": [],
   "source": [
    "## En caso de incluir 'Date' es necesario codificarla a un formato que acepte ADASYN\n",
    "#GPS_injury['Date']=GPS_injury['Date'].map(dt.datetime.toordinal)"
   ]
  },
  {
   "cell_type": "code",
   "execution_count": 7,
   "id": "ba55e593",
   "metadata": {},
   "outputs": [
    {
     "name": "stdout",
     "output_type": "stream",
     "text": [
      "Index(['Alfonso Gonzalez', 'Axel Grijalva', 'Carlos Rodriguez', 'Celso Ortiz',\n",
      "       'Cesar Montes', 'Daniel Parra', 'Duvan Vergara', 'Edson Gutierrez',\n",
      "       'Erick Aguirre', 'Gustavo Sanchez', 'Hector Moreno', 'Jesus Gallardo',\n",
      "       'Joel Campbell', 'Kaleth Hernandez', 'Matias Kranevitter',\n",
      "       'Maximiliano Meza', 'Rogelio Funes Mori', 'Sebastian Vegas',\n",
      "       'Sergio Villarreal', 'Stefan Medina', 'Vincent Janssen'],\n",
      "      dtype='object')\n"
     ]
    }
   ],
   "source": [
    "GPS_injury['Player'],players = pd.factorize(GPS_injury['Player'])\n",
    "print(players)"
   ]
  },
  {
   "cell_type": "markdown",
   "id": "0c635b9e",
   "metadata": {},
   "source": [
    "# Balanceo de datos"
   ]
  },
  {
   "cell_type": "code",
   "execution_count": 8,
   "id": "2fcebbe8",
   "metadata": {},
   "outputs": [
    {
     "data": {
      "text/plain": [
       "0    2803\n",
       "1      11\n",
       "Name: injury, dtype: int64"
      ]
     },
     "execution_count": 8,
     "metadata": {},
     "output_type": "execute_result"
    }
   ],
   "source": [
    "GPS_injury['injury'].value_counts()"
   ]
  },
  {
   "cell_type": "markdown",
   "id": "47350232",
   "metadata": {},
   "source": [
    "Dividir dataset en injury y NOinjury"
   ]
  },
  {
   "cell_type": "code",
   "execution_count": 9,
   "id": "f838533f",
   "metadata": {},
   "outputs": [],
   "source": [
    "injury = GPS_injury[GPS_injury['injury'] == 1]\n",
    "NOinjury = GPS_injury[GPS_injury['injury'] == 0]"
   ]
  },
  {
   "cell_type": "code",
   "execution_count": 10,
   "id": "7e0bc641",
   "metadata": {},
   "outputs": [],
   "source": [
    "## Eliminar todos los valores inf, -inf y nan \n",
    "\n",
    "NOinjury.replace([np.inf, -np.inf], np.nan, inplace=True)\n",
    "NOinjury.dropna(inplace=True)\n",
    "#print(NOinjury_df.head)\n",
    "\n",
    "injury.replace([np.inf, -np.inf], np.nan, inplace=True)\n",
    "injury.dropna(inplace=True)\n",
    "#print(injury_df.head)"
   ]
  },
  {
   "cell_type": "markdown",
   "id": "023bc29f",
   "metadata": {},
   "source": [
    "Dividir en columna de atributos (x) y de salidas (y)"
   ]
  },
  {
   "cell_type": "code",
   "execution_count": 11,
   "id": "5765b988",
   "metadata": {},
   "outputs": [],
   "source": [
    "injury_y = injury[['injury']]\n",
    "injury_x = injury.drop(['injury'], axis=1)"
   ]
  },
  {
   "cell_type": "code",
   "execution_count": 12,
   "id": "7e18bad3",
   "metadata": {},
   "outputs": [],
   "source": [
    "NOinjury_y = NOinjury[['injury']]\n",
    "NOinjury_x = NOinjury.drop(['injury'], axis=1)"
   ]
  },
  {
   "cell_type": "markdown",
   "id": "e68fbe8d",
   "metadata": {},
   "source": [
    "Dividir en train y test.\n",
    "El training batch es el 30% de los datos."
   ]
  },
  {
   "cell_type": "code",
   "execution_count": 13,
   "id": "8a5a0b1b",
   "metadata": {},
   "outputs": [],
   "source": [
    "X_train_injury, X_test_injury, y_train_injury, y_test_injury = train_test_split(injury_x, injury_y, test_size=0.7, random_state=42)\n",
    "X_train_NOinjury, X_test_NOinjury, y_train_NOinjury, y_test_NOinjury = train_test_split(NOinjury_x, NOinjury_y, test_size=0.7, random_state=42)"
   ]
  },
  {
   "cell_type": "markdown",
   "id": "25934478",
   "metadata": {},
   "source": [
    "Unir injury y NOinjury en el training batch"
   ]
  },
  {
   "cell_type": "code",
   "execution_count": 14,
   "id": "c309b88e",
   "metadata": {},
   "outputs": [],
   "source": [
    "frames = [X_train_injury, X_train_NOinjury]\n",
    "X_train = pd.concat(frames)\n",
    "\n",
    "frames = [y_train_injury, y_train_NOinjury]\n",
    "y_train = pd.concat(frames)"
   ]
  },
  {
   "cell_type": "code",
   "execution_count": 15,
   "id": "ac0d608e",
   "metadata": {},
   "outputs": [
    {
     "data": {
      "text/plain": [
       "0    811\n",
       "1      3\n",
       "Name: injury, dtype: int64"
      ]
     },
     "execution_count": 15,
     "metadata": {},
     "output_type": "execute_result"
    }
   ],
   "source": [
    "y_train['injury'].value_counts()"
   ]
  },
  {
   "cell_type": "markdown",
   "id": "255fc522",
   "metadata": {},
   "source": [
    "### Oversampling con ADASYN en train set"
   ]
  },
  {
   "cell_type": "code",
   "execution_count": 16,
   "id": "7a26d700",
   "metadata": {},
   "outputs": [],
   "source": [
    "X_resampled, y_resampled = ADASYN(n_neighbors=2).fit_resample(X_train, y_train)"
   ]
  },
  {
   "cell_type": "code",
   "execution_count": 17,
   "id": "0b72bfd0",
   "metadata": {},
   "outputs": [
    {
     "data": {
      "text/plain": [
       "0    811\n",
       "1    810\n",
       "Name: injury, dtype: int64"
      ]
     },
     "execution_count": 17,
     "metadata": {},
     "output_type": "execute_result"
    }
   ],
   "source": [
    "#Check how many injury vs no injury\n",
    "y_resampled['injury'].value_counts()"
   ]
  },
  {
   "cell_type": "code",
   "execution_count": 18,
   "id": "dceb700a",
   "metadata": {},
   "outputs": [],
   "source": [
    "#y_resampled.shape\n",
    "y_resampled = y_resampled.values.ravel()"
   ]
  },
  {
   "cell_type": "markdown",
   "id": "aba97ee1",
   "metadata": {},
   "source": [
    "# Logistic Regression"
   ]
  },
  {
   "cell_type": "markdown",
   "id": "cc7c9c8c",
   "metadata": {},
   "source": [
    "### RFECV para train set"
   ]
  },
  {
   "cell_type": "code",
   "execution_count": 19,
   "id": "0afccbdd",
   "metadata": {},
   "outputs": [],
   "source": [
    "estimator = LogisticRegression(max_iter=10000, n_jobs=-1)\n",
    "selector = RFECV(estimator, step=1, cv=None)\n",
    "selector = selector.fit(X_resampled, y_resampled)"
   ]
  },
  {
   "cell_type": "code",
   "execution_count": 20,
   "id": "1f82e39d",
   "metadata": {},
   "outputs": [
    {
     "data": {
      "text/plain": [
       "array([False, False, False, False, False, False, False, False, False,\n",
       "        True, False, False, False, False, False, False,  True, False,\n",
       "        True, False,  True, False,  True,  True, False,  True,  True,\n",
       "        True, False,  True,  True, False,  True,  True,  True, False,\n",
       "        True,  True, False, False, False, False, False,  True,  True,\n",
       "        True,  True,  True,  True])"
      ]
     },
     "execution_count": 20,
     "metadata": {},
     "output_type": "execute_result"
    }
   ],
   "source": [
    "selector.support_"
   ]
  },
  {
   "cell_type": "code",
   "execution_count": 21,
   "id": "bed554ac",
   "metadata": {},
   "outputs": [
    {
     "data": {
      "text/plain": [
       "array([12, 20, 18, 27, 19, 21, 22, 26, 25,  1, 24, 28, 23,  7, 11,  3,  1,\n",
       "        9,  1,  2,  1, 14,  1,  1, 10,  1,  1,  1, 16,  1,  1,  8,  1,  1,\n",
       "        1, 17,  1,  1, 13,  4,  5,  6, 15,  1,  1,  1,  1,  1,  1])"
      ]
     },
     "execution_count": 21,
     "metadata": {},
     "output_type": "execute_result"
    }
   ],
   "source": [
    "selector.ranking_"
   ]
  },
  {
   "cell_type": "code",
   "execution_count": 22,
   "id": "434194ae",
   "metadata": {},
   "outputs": [
    {
     "data": {
      "text/plain": [
       "[(False, 12, 'Distance(m)'),\n",
       " (False, 20, 'Dist (m/min)'),\n",
       " (False, 18, 'HMLD (m)'),\n",
       " (False, 27, '% ALTA INTENSIDAD'),\n",
       " (False, 19, 'Distance Acc(m)'),\n",
       " (False, 21, 'Distance Dec(m)'),\n",
       " (False, 22, 'HSR Abs Dist (m)'),\n",
       " (False, 26, 'HSR Abs (m/min)'),\n",
       " (False, 25, 'Sprint Abs(m)'),\n",
       " (True, 1, 'Sprints ABS'),\n",
       " (False, 24, 'MAX Speed(km/h)'),\n",
       " (False, 28, 'Step Balance(%)'),\n",
       " (False, 23, 'Player Load '),\n",
       " (False, 7, 'Power met'),\n",
       " (False, 11, 'duration'),\n",
       " (False, 3, 'Acute_Dis'),\n",
       " (True, 1, 'Chronic_Dis'),\n",
       " (False, 9, 'ACWR_Dis'),\n",
       " (True, 1, 'EWMA_Dis'),\n",
       " (False, 2, 'Mean_Dis'),\n",
       " (True, 1, 'Std_Dis'),\n",
       " (False, 14, 'MSWR_Dis'),\n",
       " (True, 1, 'Acute_HMLD'),\n",
       " (True, 1, 'Chronic_HMLD'),\n",
       " (False, 10, 'ACWR_HMLD'),\n",
       " (True, 1, 'EWMA_HMLD'),\n",
       " (True, 1, 'Mean_HMLD'),\n",
       " (True, 1, 'Std_HMLD'),\n",
       " (False, 16, 'MSWR_HMLD'),\n",
       " (True, 1, 'Acute_HSR'),\n",
       " (True, 1, 'Chronic_HSR'),\n",
       " (False, 8, 'ACWR_HSR'),\n",
       " (True, 1, 'EWMA_HSR'),\n",
       " (True, 1, 'Mean_HSR'),\n",
       " (True, 1, 'Std_HSR'),\n",
       " (False, 17, 'MSWR_HSR'),\n",
       " (True, 1, 'Acute_PowerM'),\n",
       " (True, 1, 'Chronic_PowerM'),\n",
       " (False, 13, 'ACWR_PowerM'),\n",
       " (False, 4, 'EWMA_PowerM'),\n",
       " (False, 5, 'Mean_PowerM'),\n",
       " (False, 6, 'Std_PowerM'),\n",
       " (False, 15, 'MSWR_PowerM'),\n",
       " (True, 1, 'Player'),\n",
       " (True, 1, 'Talla'),\n",
       " (True, 1, 'Peso'),\n",
       " (True, 1, 'Edad'),\n",
       " (True, 1, 'Rol'),\n",
       " (True, 1, 'prev_injury')]"
      ]
     },
     "execution_count": 22,
     "metadata": {},
     "output_type": "execute_result"
    }
   ],
   "source": [
    "tmp = list(zip(selector.support_, selector.ranking_, X_resampled.columns))\n",
    "tmp"
   ]
  },
  {
   "cell_type": "markdown",
   "id": "2d70ef7a",
   "metadata": {},
   "source": [
    "Seleccionar únicamente las columnas que RFECV considera relevantes"
   ]
  },
  {
   "cell_type": "code",
   "execution_count": 23,
   "id": "132637d1",
   "metadata": {},
   "outputs": [],
   "source": [
    "columns_to_remove = list(map(lambda x: x[2], filter(lambda x: not x[0], tmp)))\n",
    "X_test_injury_LR = X_test_injury.drop(columns_to_remove,axis=1)\n",
    "X_test_NOinjury_LR = X_test_NOinjury.drop(columns_to_remove,axis=1)"
   ]
  },
  {
   "cell_type": "code",
   "execution_count": 24,
   "id": "c14433ac",
   "metadata": {},
   "outputs": [
    {
     "data": {
      "text/html": [
       "<div>\n",
       "<style scoped>\n",
       "    .dataframe tbody tr th:only-of-type {\n",
       "        vertical-align: middle;\n",
       "    }\n",
       "\n",
       "    .dataframe tbody tr th {\n",
       "        vertical-align: top;\n",
       "    }\n",
       "\n",
       "    .dataframe thead th {\n",
       "        text-align: right;\n",
       "    }\n",
       "</style>\n",
       "<table border=\"1\" class=\"dataframe\">\n",
       "  <thead>\n",
       "    <tr style=\"text-align: right;\">\n",
       "      <th></th>\n",
       "      <th>Sprints ABS</th>\n",
       "      <th>Chronic_Dis</th>\n",
       "      <th>EWMA_Dis</th>\n",
       "      <th>Std_Dis</th>\n",
       "      <th>Acute_HMLD</th>\n",
       "      <th>Chronic_HMLD</th>\n",
       "      <th>EWMA_HMLD</th>\n",
       "      <th>Mean_HMLD</th>\n",
       "      <th>Std_HMLD</th>\n",
       "      <th>Acute_HSR</th>\n",
       "      <th>...</th>\n",
       "      <th>Mean_HSR</th>\n",
       "      <th>Std_HSR</th>\n",
       "      <th>Acute_PowerM</th>\n",
       "      <th>Chronic_PowerM</th>\n",
       "      <th>Player</th>\n",
       "      <th>Talla</th>\n",
       "      <th>Peso</th>\n",
       "      <th>Edad</th>\n",
       "      <th>Rol</th>\n",
       "      <th>prev_injury</th>\n",
       "    </tr>\n",
       "  </thead>\n",
       "  <tbody>\n",
       "    <tr>\n",
       "      <th>1678</th>\n",
       "      <td>1.0</td>\n",
       "      <td>724.742919</td>\n",
       "      <td>10.476258</td>\n",
       "      <td>0.000000</td>\n",
       "      <td>0.000000</td>\n",
       "      <td>71.353280</td>\n",
       "      <td>1.620818</td>\n",
       "      <td>0.000000</td>\n",
       "      <td>0.000007</td>\n",
       "      <td>0.000000</td>\n",
       "      <td>...</td>\n",
       "      <td>0.000000</td>\n",
       "      <td>9.536743e-07</td>\n",
       "      <td>0.000000</td>\n",
       "      <td>1756.568181</td>\n",
       "      <td>12</td>\n",
       "      <td>179.8</td>\n",
       "      <td>82.7</td>\n",
       "      <td>30</td>\n",
       "      <td>1</td>\n",
       "      <td>1</td>\n",
       "    </tr>\n",
       "    <tr>\n",
       "      <th>208</th>\n",
       "      <td>1.0</td>\n",
       "      <td>758.835776</td>\n",
       "      <td>1578.789949</td>\n",
       "      <td>1939.911540</td>\n",
       "      <td>457.690000</td>\n",
       "      <td>115.852536</td>\n",
       "      <td>311.255363</td>\n",
       "      <td>457.690000</td>\n",
       "      <td>453.070748</td>\n",
       "      <td>73.495714</td>\n",
       "      <td>...</td>\n",
       "      <td>73.495714</td>\n",
       "      <td>1.251579e+02</td>\n",
       "      <td>8797.478429</td>\n",
       "      <td>2364.503714</td>\n",
       "      <td>1</td>\n",
       "      <td>178.0</td>\n",
       "      <td>78.9</td>\n",
       "      <td>22</td>\n",
       "      <td>0</td>\n",
       "      <td>1</td>\n",
       "    </tr>\n",
       "    <tr>\n",
       "      <th>2668</th>\n",
       "      <td>1.0</td>\n",
       "      <td>1398.371919</td>\n",
       "      <td>1979.097658</td>\n",
       "      <td>1441.627186</td>\n",
       "      <td>295.704618</td>\n",
       "      <td>186.019190</td>\n",
       "      <td>226.860361</td>\n",
       "      <td>295.704618</td>\n",
       "      <td>225.414324</td>\n",
       "      <td>43.599288</td>\n",
       "      <td>...</td>\n",
       "      <td>43.599288</td>\n",
       "      <td>3.851259e+01</td>\n",
       "      <td>6294.151865</td>\n",
       "      <td>3486.656466</td>\n",
       "      <td>19</td>\n",
       "      <td>177.8</td>\n",
       "      <td>72.4</td>\n",
       "      <td>30</td>\n",
       "      <td>0</td>\n",
       "      <td>5</td>\n",
       "    </tr>\n",
       "    <tr>\n",
       "      <th>2793</th>\n",
       "      <td>0.0</td>\n",
       "      <td>1957.314348</td>\n",
       "      <td>1914.454874</td>\n",
       "      <td>2204.545833</td>\n",
       "      <td>230.659857</td>\n",
       "      <td>234.845750</td>\n",
       "      <td>171.279167</td>\n",
       "      <td>230.659857</td>\n",
       "      <td>332.589737</td>\n",
       "      <td>62.171429</td>\n",
       "      <td>...</td>\n",
       "      <td>62.171429</td>\n",
       "      <td>1.061950e+02</td>\n",
       "      <td>5328.083143</td>\n",
       "      <td>5223.630750</td>\n",
       "      <td>20</td>\n",
       "      <td>184.2</td>\n",
       "      <td>89.2</td>\n",
       "      <td>28</td>\n",
       "      <td>1</td>\n",
       "      <td>5</td>\n",
       "    </tr>\n",
       "    <tr>\n",
       "      <th>917</th>\n",
       "      <td>3.0</td>\n",
       "      <td>2877.709056</td>\n",
       "      <td>3554.935097</td>\n",
       "      <td>1454.087662</td>\n",
       "      <td>516.640857</td>\n",
       "      <td>428.731687</td>\n",
       "      <td>488.014126</td>\n",
       "      <td>516.640857</td>\n",
       "      <td>318.171395</td>\n",
       "      <td>124.462857</td>\n",
       "      <td>...</td>\n",
       "      <td>124.462857</td>\n",
       "      <td>1.100320e+02</td>\n",
       "      <td>9225.437000</td>\n",
       "      <td>7503.734350</td>\n",
       "      <td>6</td>\n",
       "      <td>168.8</td>\n",
       "      <td>71.0</td>\n",
       "      <td>26</td>\n",
       "      <td>1</td>\n",
       "      <td>1</td>\n",
       "    </tr>\n",
       "    <tr>\n",
       "      <th>664</th>\n",
       "      <td>1.0</td>\n",
       "      <td>1995.882391</td>\n",
       "      <td>1883.700198</td>\n",
       "      <td>1858.351705</td>\n",
       "      <td>319.247857</td>\n",
       "      <td>255.335137</td>\n",
       "      <td>212.780083</td>\n",
       "      <td>319.247857</td>\n",
       "      <td>489.741121</td>\n",
       "      <td>49.871429</td>\n",
       "      <td>...</td>\n",
       "      <td>49.871429</td>\n",
       "      <td>9.804002e+01</td>\n",
       "      <td>4983.099293</td>\n",
       "      <td>5064.229829</td>\n",
       "      <td>4</td>\n",
       "      <td>195.5</td>\n",
       "      <td>88.9</td>\n",
       "      <td>25</td>\n",
       "      <td>0</td>\n",
       "      <td>6</td>\n",
       "    </tr>\n",
       "    <tr>\n",
       "      <th>2510</th>\n",
       "      <td>0.0</td>\n",
       "      <td>317.667919</td>\n",
       "      <td>0.626472</td>\n",
       "      <td>0.000063</td>\n",
       "      <td>0.000000</td>\n",
       "      <td>41.673780</td>\n",
       "      <td>0.077867</td>\n",
       "      <td>0.000000</td>\n",
       "      <td>0.000000</td>\n",
       "      <td>0.000000</td>\n",
       "      <td>...</td>\n",
       "      <td>0.000000</td>\n",
       "      <td>0.000000e+00</td>\n",
       "      <td>0.000000</td>\n",
       "      <td>1176.212357</td>\n",
       "      <td>18</td>\n",
       "      <td>177.0</td>\n",
       "      <td>72.0</td>\n",
       "      <td>22</td>\n",
       "      <td>0</td>\n",
       "      <td>1</td>\n",
       "    </tr>\n",
       "    <tr>\n",
       "      <th>1372</th>\n",
       "      <td>0.0</td>\n",
       "      <td>0.000000</td>\n",
       "      <td>0.000000</td>\n",
       "      <td>0.000000</td>\n",
       "      <td>0.000000</td>\n",
       "      <td>0.000000</td>\n",
       "      <td>0.000000</td>\n",
       "      <td>0.000000</td>\n",
       "      <td>0.000000</td>\n",
       "      <td>0.000000</td>\n",
       "      <td>...</td>\n",
       "      <td>0.000000</td>\n",
       "      <td>0.000000e+00</td>\n",
       "      <td>0.000000</td>\n",
       "      <td>0.000000</td>\n",
       "      <td>10</td>\n",
       "      <td>183.0</td>\n",
       "      <td>80.1</td>\n",
       "      <td>34</td>\n",
       "      <td>0</td>\n",
       "      <td>1</td>\n",
       "    </tr>\n",
       "  </tbody>\n",
       "</table>\n",
       "<p>8 rows × 22 columns</p>\n",
       "</div>"
      ],
      "text/plain": [
       "      Sprints ABS  Chronic_Dis     EWMA_Dis      Std_Dis  Acute_HMLD  \\\n",
       "1678          1.0   724.742919    10.476258     0.000000    0.000000   \n",
       "208           1.0   758.835776  1578.789949  1939.911540  457.690000   \n",
       "2668          1.0  1398.371919  1979.097658  1441.627186  295.704618   \n",
       "2793          0.0  1957.314348  1914.454874  2204.545833  230.659857   \n",
       "917           3.0  2877.709056  3554.935097  1454.087662  516.640857   \n",
       "664           1.0  1995.882391  1883.700198  1858.351705  319.247857   \n",
       "2510          0.0   317.667919     0.626472     0.000063    0.000000   \n",
       "1372          0.0     0.000000     0.000000     0.000000    0.000000   \n",
       "\n",
       "      Chronic_HMLD   EWMA_HMLD   Mean_HMLD    Std_HMLD   Acute_HSR  ...  \\\n",
       "1678     71.353280    1.620818    0.000000    0.000007    0.000000  ...   \n",
       "208     115.852536  311.255363  457.690000  453.070748   73.495714  ...   \n",
       "2668    186.019190  226.860361  295.704618  225.414324   43.599288  ...   \n",
       "2793    234.845750  171.279167  230.659857  332.589737   62.171429  ...   \n",
       "917     428.731687  488.014126  516.640857  318.171395  124.462857  ...   \n",
       "664     255.335137  212.780083  319.247857  489.741121   49.871429  ...   \n",
       "2510     41.673780    0.077867    0.000000    0.000000    0.000000  ...   \n",
       "1372      0.000000    0.000000    0.000000    0.000000    0.000000  ...   \n",
       "\n",
       "        Mean_HSR       Std_HSR  Acute_PowerM  Chronic_PowerM  Player  Talla  \\\n",
       "1678    0.000000  9.536743e-07      0.000000     1756.568181      12  179.8   \n",
       "208    73.495714  1.251579e+02   8797.478429     2364.503714       1  178.0   \n",
       "2668   43.599288  3.851259e+01   6294.151865     3486.656466      19  177.8   \n",
       "2793   62.171429  1.061950e+02   5328.083143     5223.630750      20  184.2   \n",
       "917   124.462857  1.100320e+02   9225.437000     7503.734350       6  168.8   \n",
       "664    49.871429  9.804002e+01   4983.099293     5064.229829       4  195.5   \n",
       "2510    0.000000  0.000000e+00      0.000000     1176.212357      18  177.0   \n",
       "1372    0.000000  0.000000e+00      0.000000        0.000000      10  183.0   \n",
       "\n",
       "      Peso  Edad  Rol  prev_injury  \n",
       "1678  82.7    30    1            1  \n",
       "208   78.9    22    0            1  \n",
       "2668  72.4    30    0            5  \n",
       "2793  89.2    28    1            5  \n",
       "917   71.0    26    1            1  \n",
       "664   88.9    25    0            6  \n",
       "2510  72.0    22    0            1  \n",
       "1372  80.1    34    0            1  \n",
       "\n",
       "[8 rows x 22 columns]"
      ]
     },
     "execution_count": 24,
     "metadata": {},
     "output_type": "execute_result"
    }
   ],
   "source": [
    "X_test_injury_LR"
   ]
  },
  {
   "cell_type": "markdown",
   "id": "64e27d67",
   "metadata": {},
   "source": [
    "### Dividir test set en 2\n",
    "(A una mitad se le aplica ADASYN y a la otra mitad no)"
   ]
  },
  {
   "cell_type": "code",
   "execution_count": 25,
   "id": "a24a1345",
   "metadata": {},
   "outputs": [],
   "source": [
    "X_train2_injury, X_test2_injury, y_train2_injury, y_test2_injury = train_test_split(X_test_injury_LR, y_test_injury, test_size=0.5, random_state=42)\n",
    "X_train2_NOinjury, X_test2_NOinjury, y_train2_NOinjury, y_test2_NOinjury = train_test_split(X_test_NOinjury_LR, y_test_NOinjury, test_size=0.5, random_state=42)"
   ]
  },
  {
   "cell_type": "code",
   "execution_count": 26,
   "id": "14acbee8",
   "metadata": {},
   "outputs": [],
   "source": [
    "frames = [X_test2_injury, X_test2_NOinjury]\n",
    "X_test2 = pd.concat(frames)\n",
    "\n",
    "frames = [X_train2_injury, X_train2_NOinjury]\n",
    "X_train2 = pd.concat(frames)\n",
    "\n",
    "frames = [y_test2_injury, y_test2_NOinjury]\n",
    "y_test2 = pd.concat(frames)"
   ]
  },
  {
   "cell_type": "code",
   "execution_count": 27,
   "id": "df9db956",
   "metadata": {},
   "outputs": [
    {
     "data": {
      "text/plain": [
       "0    947\n",
       "1      4\n",
       "Name: injury, dtype: int64"
      ]
     },
     "execution_count": 27,
     "metadata": {},
     "output_type": "execute_result"
    }
   ],
   "source": [
    "y_test2['injury'].value_counts()"
   ]
  },
  {
   "cell_type": "code",
   "execution_count": 28,
   "id": "5ec0c8a0",
   "metadata": {},
   "outputs": [],
   "source": [
    "frames = [y_train2_injury, y_train2_NOinjury]\n",
    "y_train2 = pd.concat(frames)"
   ]
  },
  {
   "cell_type": "code",
   "execution_count": 29,
   "id": "2f3037c7",
   "metadata": {},
   "outputs": [
    {
     "data": {
      "text/plain": [
       "0    947\n",
       "1      4\n",
       "Name: injury, dtype: int64"
      ]
     },
     "execution_count": 29,
     "metadata": {},
     "output_type": "execute_result"
    }
   ],
   "source": [
    "y_train2['injury'].value_counts()"
   ]
  },
  {
   "cell_type": "markdown",
   "id": "740e87a9",
   "metadata": {},
   "source": [
    "### Oversampling con ADASYN en una mitad del test set"
   ]
  },
  {
   "cell_type": "code",
   "execution_count": 30,
   "id": "16b37966",
   "metadata": {},
   "outputs": [],
   "source": [
    "X_resampled2, y_resampled2 = ADASYN(n_neighbors=3).fit_resample(X_train2, y_train2)"
   ]
  },
  {
   "cell_type": "code",
   "execution_count": 31,
   "id": "b2aff34b",
   "metadata": {},
   "outputs": [
    {
     "data": {
      "text/plain": [
       "1    948\n",
       "0    947\n",
       "Name: injury, dtype: int64"
      ]
     },
     "execution_count": 31,
     "metadata": {},
     "output_type": "execute_result"
    }
   ],
   "source": [
    "#Check how many injury vs no injury\n",
    "y_resampled2['injury'].value_counts()"
   ]
  },
  {
   "cell_type": "code",
   "execution_count": 32,
   "id": "c4f0e5ca",
   "metadata": {},
   "outputs": [
    {
     "name": "stderr",
     "output_type": "stream",
     "text": [
      "C:\\Users\\ferbm\\anaconda3\\envs\\computer_vision\\lib\\site-packages\\sklearn\\utils\\validation.py:63: DataConversionWarning: A column-vector y was passed when a 1d array was expected. Please change the shape of y to (n_samples, ), for example using ravel().\n",
      "  return f(*args, **kwargs)\n",
      "C:\\Users\\ferbm\\anaconda3\\envs\\computer_vision\\lib\\site-packages\\sklearn\\linear_model\\_logistic.py:763: ConvergenceWarning: lbfgs failed to converge (status=1):\n",
      "STOP: TOTAL NO. of ITERATIONS REACHED LIMIT.\n",
      "\n",
      "Increase the number of iterations (max_iter) or scale the data as shown in:\n",
      "    https://scikit-learn.org/stable/modules/preprocessing.html\n",
      "Please also refer to the documentation for alternative solver options:\n",
      "    https://scikit-learn.org/stable/modules/linear_model.html#logistic-regression\n",
      "  n_iter_i = _check_optimize_result(\n"
     ]
    }
   ],
   "source": [
    "# Logistic Regression\n",
    "model = LogisticRegression(max_iter=1000)\n",
    "model.fit(X_resampled2, y_resampled2)\n",
    "\n",
    "score = model.score(X_test2, y_test2)\n",
    "y_pred = model.predict(X_test2)"
   ]
  },
  {
   "cell_type": "code",
   "execution_count": 33,
   "id": "e756c914",
   "metadata": {},
   "outputs": [
    {
     "name": "stdout",
     "output_type": "stream",
     "text": [
      "LOGISTIC REGRESSION\n",
      "              precision    recall  f1-score   support\n",
      "\n",
      "           0       1.00      0.91      0.95       947\n",
      "           1       0.00      0.00      0.00         4\n",
      "\n",
      "    accuracy                           0.91       951\n",
      "   macro avg       0.50      0.46      0.48       951\n",
      "weighted avg       0.99      0.91      0.95       951\n",
      "\n"
     ]
    },
    {
     "data": {
      "image/png": "[encoded data removed]",
      "text/plain": [
       "<Figure size 640x480 with 2 Axes>"
      ]
     },
     "metadata": {},
     "output_type": "display_data"
    },
    {
     "data": {
      "image/png": "[encoded data removed]",
      "text/plain": [
       "<Figure size 640x480 with 1 Axes>"
      ]
     },
     "metadata": {},
     "output_type": "display_data"
    }
   ],
   "source": [
    "# Classification Report\n",
    "print('LOGISTIC REGRESSION')\n",
    "print(classification_report(y_test2, y_pred))\n",
    "\n",
    "cf_matrix = confusion_matrix(y_test2, y_pred)\n",
    "ax = sns.heatmap(cf_matrix, annot=True, cmap='Blues')\n",
    "ax.set_title('Confusion Matrix');\n",
    "ax.set_xlabel('\\nPredicted Values')\n",
    "ax.set_ylabel('Actual Values ');\n",
    "\n",
    "## Ticket labels - List must be in alphabetical order\n",
    "ax.xaxis.set_ticklabels(['False','True'])\n",
    "ax.yaxis.set_ticklabels(['False','True'])\n",
    "\n",
    "## Display the visualization of the Confusion Matrix.\n",
    "plt.show()\n",
    "\n",
    "## Display the visualization of the ROC curve.\n",
    "plot_roc_curve(model, X_test2, y_test2)\n",
    "plt.show()"
   ]
  },
  {
   "cell_type": "markdown",
   "id": "3fc8cc48",
   "metadata": {},
   "source": [
    "# Decision Tree"
   ]
  },
  {
   "cell_type": "code",
   "execution_count": 34,
   "id": "eccceb89",
   "metadata": {},
   "outputs": [],
   "source": [
    "estimator = DecisionTreeClassifier(random_state=0)\n",
    "selector = RFECV(estimator, step=1, cv=None)\n",
    "selector = selector.fit(X_resampled, y_resampled)"
   ]
  },
  {
   "cell_type": "code",
   "execution_count": 35,
   "id": "f1b2cc8d",
   "metadata": {},
   "outputs": [],
   "source": [
    "tmp = list(zip(selector.support_, selector.ranking_, X_resampled.columns))\n",
    "# Seleccionar únicamente las columnas que RFECV considera relevantes\n",
    "columns_to_remove = list(map(lambda x: x[2], filter(lambda x: not x[0], tmp)))\n",
    "X_test_injury_DT = X_test_injury.drop(columns_to_remove,axis=1)\n",
    "X_test_NOinjury_DT = X_test_NOinjury.drop(columns_to_remove,axis=1)"
   ]
  },
  {
   "cell_type": "code",
   "execution_count": 36,
   "id": "8374379d",
   "metadata": {},
   "outputs": [
    {
     "data": {
      "text/plain": [
       "[(False, 38, 'Distance(m)'),\n",
       " (False, 36, 'Dist (m/min)'),\n",
       " (False, 35, 'HMLD (m)'),\n",
       " (False, 34, '% ALTA INTENSIDAD'),\n",
       " (False, 33, 'Distance Acc(m)'),\n",
       " (False, 32, 'Distance Dec(m)'),\n",
       " (False, 31, 'HSR Abs Dist (m)'),\n",
       " (False, 30, 'HSR Abs (m/min)'),\n",
       " (False, 29, 'Sprint Abs(m)'),\n",
       " (True, 1, 'Sprints ABS'),\n",
       " (False, 10, 'MAX Speed(km/h)'),\n",
       " (False, 7, 'Step Balance(%)'),\n",
       " (False, 4, 'Player Load '),\n",
       " (False, 5, 'Power met'),\n",
       " (False, 2, 'duration'),\n",
       " (False, 3, 'Acute_Dis'),\n",
       " (True, 1, 'Chronic_Dis'),\n",
       " (True, 1, 'ACWR_Dis'),\n",
       " (True, 1, 'EWMA_Dis'),\n",
       " (False, 11, 'Mean_Dis'),\n",
       " (False, 21, 'Std_Dis'),\n",
       " (False, 25, 'MSWR_Dis'),\n",
       " (False, 26, 'Acute_HMLD'),\n",
       " (False, 13, 'Chronic_HMLD'),\n",
       " (False, 37, 'ACWR_HMLD'),\n",
       " (False, 15, 'EWMA_HMLD'),\n",
       " (False, 17, 'Mean_HMLD'),\n",
       " (False, 19, 'Std_HMLD'),\n",
       " (False, 27, 'MSWR_HMLD'),\n",
       " (False, 28, 'Acute_HSR'),\n",
       " (False, 23, 'Chronic_HSR'),\n",
       " (False, 24, 'ACWR_HSR'),\n",
       " (False, 22, 'EWMA_HSR'),\n",
       " (False, 20, 'Mean_HSR'),\n",
       " (False, 18, 'Std_HSR'),\n",
       " (False, 16, 'MSWR_HSR'),\n",
       " (False, 14, 'Acute_PowerM'),\n",
       " (False, 12, 'Chronic_PowerM'),\n",
       " (False, 9, 'ACWR_PowerM'),\n",
       " (False, 8, 'EWMA_PowerM'),\n",
       " (False, 6, 'Mean_PowerM'),\n",
       " (True, 1, 'Std_PowerM'),\n",
       " (True, 1, 'MSWR_PowerM'),\n",
       " (True, 1, 'Player'),\n",
       " (True, 1, 'Talla'),\n",
       " (True, 1, 'Peso'),\n",
       " (True, 1, 'Edad'),\n",
       " (True, 1, 'Rol'),\n",
       " (True, 1, 'prev_injury')]"
      ]
     },
     "execution_count": 36,
     "metadata": {},
     "output_type": "execute_result"
    }
   ],
   "source": [
    "tmp"
   ]
  },
  {
   "cell_type": "code",
   "execution_count": 37,
   "id": "f199c63e",
   "metadata": {},
   "outputs": [
    {
     "data": {
      "text/plain": [
       "1    948\n",
       "0    947\n",
       "Name: injury, dtype: int64"
      ]
     },
     "execution_count": 37,
     "metadata": {},
     "output_type": "execute_result"
    }
   ],
   "source": [
    "### Dividir test set en 2\n",
    "#(A una mitad se le aplica ADASYN y a la otra mitad no)\n",
    "\n",
    "X_train2_injury, X_test2_injury, y_train2_injury, y_test2_injury = train_test_split(X_test_injury_DT, y_test_injury, test_size=0.5, random_state=42)\n",
    "X_train2_NOinjury, X_test2_NOinjury, y_train2_NOinjury, y_test2_NOinjury = train_test_split(X_test_NOinjury_DT, y_test_NOinjury, test_size=0.5, random_state=42)\n",
    "\n",
    "frames = [X_test2_injury, X_test2_NOinjury]\n",
    "X_test2 = pd.concat(frames)\n",
    "\n",
    "frames = [X_train2_injury, X_train2_NOinjury]\n",
    "X_train2 = pd.concat(frames)\n",
    "\n",
    "frames = [y_test2_injury, y_test2_NOinjury]\n",
    "y_test2 = pd.concat(frames)\n",
    "\n",
    "y_test2['injury'].value_counts()\n",
    "\n",
    "frames = [y_train2_injury, y_train2_NOinjury]\n",
    "y_train2 = pd.concat(frames)\n",
    "\n",
    "y_train2['injury'].value_counts()\n",
    "\n",
    "### Oversampling con ADASYN en una mitad del test set\n",
    "\n",
    "X_resampled2, y_resampled2 = ADASYN(n_neighbors=3).fit_resample(X_train2, y_train2)\n",
    "\n",
    "#Check how many injury vs no injury\n",
    "y_resampled2['injury'].value_counts()"
   ]
  },
  {
   "cell_type": "code",
   "execution_count": 38,
   "id": "303b68af",
   "metadata": {},
   "outputs": [
    {
     "data": {
      "text/plain": [
       "DecisionTreeClassifier(random_state=0)"
      ]
     },
     "execution_count": 38,
     "metadata": {},
     "output_type": "execute_result"
    }
   ],
   "source": [
    "# Decision Tree\n",
    "model = DecisionTreeClassifier(random_state=0)\n",
    "model.fit(X_resampled2, y_resampled2)"
   ]
  },
  {
   "cell_type": "code",
   "execution_count": 39,
   "id": "e6ef76dd",
   "metadata": {},
   "outputs": [
    {
     "name": "stdout",
     "output_type": "stream",
     "text": [
      "{'criterion': 'gini', 'max_depth': 100, 'random_state': 10}\n"
     ]
    }
   ],
   "source": [
    "# Parameter Optimization\n",
    "param_grid = {\n",
    "    'criterion':['gini', 'entropy'],\n",
    "    'max_depth':[1, 10, 100],\n",
    "    'random_state':[0, 10],\n",
    "}\n",
    "\n",
    "optimal_params = GridSearchCV(\n",
    "    estimator=DecisionTreeClassifier(),\n",
    "    param_grid=param_grid,\n",
    "    scoring='roc_auc',\n",
    "    verbose=0,\n",
    "    n_jobs=10,\n",
    "    cv=3\n",
    ")\n",
    "\n",
    "optimal_params.fit(X_resampled2, y_resampled2)\n",
    "print(optimal_params.best_params_)"
   ]
  },
  {
   "cell_type": "code",
   "execution_count": 40,
   "id": "6c02e896",
   "metadata": {},
   "outputs": [],
   "source": [
    "# Building Optimized Model\n",
    "tree_clf = DecisionTreeClassifier(max_depth=100,\n",
    "                           criterion='gini',\n",
    "                           random_state=10,\n",
    "                           class_weight={0:1,1:150})\n",
    "\n",
    "tree_clf.fit(X_resampled2, y_resampled2)\n",
    "score = tree_clf.score(X_test2, y_test2)\n",
    "y_pred = tree_clf.predict(X_test2)"
   ]
  },
  {
   "cell_type": "code",
   "execution_count": 41,
   "id": "87f73604",
   "metadata": {},
   "outputs": [
    {
     "name": "stdout",
     "output_type": "stream",
     "text": [
      "DECISION TREE\n",
      "              precision    recall  f1-score   support\n",
      "\n",
      "           0       1.00      1.00      1.00       947\n",
      "           1       0.00      0.00      0.00         4\n",
      "\n",
      "    accuracy                           0.99       951\n",
      "   macro avg       0.50      0.50      0.50       951\n",
      "weighted avg       0.99      0.99      0.99       951\n",
      "\n"
     ]
    },
    {
     "data": {
      "image/png": "[encoded data removed]",
      "text/plain": [
       "<Figure size 640x480 with 2 Axes>"
      ]
     },
     "metadata": {},
     "output_type": "display_data"
    },
    {
     "data": {
      "image/png": "[encoded data removed]",
      "text/plain": [
       "<Figure size 640x480 with 1 Axes>"
      ]
     },
     "metadata": {},
     "output_type": "display_data"
    }
   ],
   "source": [
    "# Classification Report\n",
    "print('DECISION TREE')\n",
    "print(classification_report(y_test2, y_pred))\n",
    "    \n",
    "cf_matrix = confusion_matrix(y_test2, y_pred)\n",
    "ax = sns.heatmap(cf_matrix, annot=True, cmap='Blues')\n",
    "ax.set_title('Confusion Matrix');\n",
    "ax.set_xlabel('\\nPredicted Values')\n",
    "ax.set_ylabel('Actual Values ');\n",
    "\n",
    "## Ticket labels - List must be in alphabetical order\n",
    "ax.xaxis.set_ticklabels(['False','True'])\n",
    "ax.yaxis.set_ticklabels(['False','True'])\n",
    "\n",
    "## Display the visualization of the Confusion Matrix.\n",
    "plt.show()\n",
    "    \n",
    "plot_roc_curve(model, X_test2, y_test2)\n",
    "plt.show()"
   ]
  },
  {
   "cell_type": "markdown",
   "id": "22630bf0",
   "metadata": {},
   "source": [
    "# Random Forest"
   ]
  },
  {
   "cell_type": "code",
   "execution_count": 42,
   "id": "ba87645c",
   "metadata": {},
   "outputs": [],
   "source": [
    "estimator = RandomForestClassifier(random_state=0)\n",
    "selector = RFECV(estimator, step=1, cv=None)\n",
    "selector = selector.fit(X_resampled, y_resampled)"
   ]
  },
  {
   "cell_type": "code",
   "execution_count": 43,
   "id": "ed778bfb",
   "metadata": {},
   "outputs": [],
   "source": [
    "tmp = list(zip(selector.support_, selector.ranking_, X_resampled.columns))\n",
    "# Seleccionar únicamente las columnas que RFECV considera relevantes\n",
    "columns_to_remove = list(map(lambda x: x[2], filter(lambda x: not x[0], tmp)))\n",
    "X_test_injury_RF = X_test_injury.drop(columns_to_remove,axis=1)\n",
    "X_test_NOinjury_RF = X_test_NOinjury.drop(columns_to_remove,axis=1)"
   ]
  },
  {
   "cell_type": "code",
   "execution_count": 44,
   "id": "13719d46",
   "metadata": {},
   "outputs": [
    {
     "data": {
      "text/plain": [
       "[(False, 8, 'Distance(m)'),\n",
       " (False, 21, 'Dist (m/min)'),\n",
       " (False, 16, 'HMLD (m)'),\n",
       " (False, 17, '% ALTA INTENSIDAD'),\n",
       " (False, 9, 'Distance Acc(m)'),\n",
       " (False, 26, 'Distance Dec(m)'),\n",
       " (False, 29, 'HSR Abs Dist (m)'),\n",
       " (False, 28, 'HSR Abs (m/min)'),\n",
       " (False, 27, 'Sprint Abs(m)'),\n",
       " (True, 1, 'Sprints ABS'),\n",
       " (False, 11, 'MAX Speed(km/h)'),\n",
       " (False, 25, 'Step Balance(%)'),\n",
       " (False, 23, 'Player Load '),\n",
       " (False, 14, 'Power met'),\n",
       " (False, 10, 'duration'),\n",
       " (True, 1, 'Acute_Dis'),\n",
       " (False, 5, 'Chronic_Dis'),\n",
       " (True, 1, 'ACWR_Dis'),\n",
       " (True, 1, 'EWMA_Dis'),\n",
       " (True, 1, 'Mean_Dis'),\n",
       " (True, 1, 'Std_Dis'),\n",
       " (True, 1, 'MSWR_Dis'),\n",
       " (False, 18, 'Acute_HMLD'),\n",
       " (True, 1, 'Chronic_HMLD'),\n",
       " (False, 3, 'ACWR_HMLD'),\n",
       " (True, 1, 'EWMA_HMLD'),\n",
       " (False, 24, 'Mean_HMLD'),\n",
       " (True, 1, 'Std_HMLD'),\n",
       " (True, 1, 'MSWR_HMLD'),\n",
       " (False, 15, 'Acute_HSR'),\n",
       " (True, 1, 'Chronic_HSR'),\n",
       " (False, 20, 'ACWR_HSR'),\n",
       " (False, 12, 'EWMA_HSR'),\n",
       " (False, 13, 'Mean_HSR'),\n",
       " (False, 6, 'Std_HSR'),\n",
       " (False, 22, 'MSWR_HSR'),\n",
       " (False, 7, 'Acute_PowerM'),\n",
       " (False, 2, 'Chronic_PowerM'),\n",
       " (True, 1, 'ACWR_PowerM'),\n",
       " (True, 1, 'EWMA_PowerM'),\n",
       " (True, 1, 'Mean_PowerM'),\n",
       " (True, 1, 'Std_PowerM'),\n",
       " (False, 4, 'MSWR_PowerM'),\n",
       " (True, 1, 'Player'),\n",
       " (True, 1, 'Talla'),\n",
       " (True, 1, 'Peso'),\n",
       " (True, 1, 'Edad'),\n",
       " (False, 19, 'Rol'),\n",
       " (True, 1, 'prev_injury')]"
      ]
     },
     "execution_count": 44,
     "metadata": {},
     "output_type": "execute_result"
    }
   ],
   "source": [
    "tmp"
   ]
  },
  {
   "cell_type": "code",
   "execution_count": 45,
   "id": "9b5d5cd9",
   "metadata": {},
   "outputs": [
    {
     "data": {
      "text/plain": [
       "1    948\n",
       "0    947\n",
       "Name: injury, dtype: int64"
      ]
     },
     "execution_count": 45,
     "metadata": {},
     "output_type": "execute_result"
    }
   ],
   "source": [
    "### Dividir test set en 2\n",
    "#(A una mitad se le aplica ADASYN y a la otra mitad no)\n",
    "\n",
    "X_train2_injury, X_test2_injury, y_train2_injury, y_test2_injury = train_test_split(X_test_injury_RF, y_test_injury, test_size=0.5, random_state=42)\n",
    "X_train2_NOinjury, X_test2_NOinjury, y_train2_NOinjury, y_test2_NOinjury = train_test_split(X_test_NOinjury_RF, y_test_NOinjury, test_size=0.5, random_state=42)\n",
    "\n",
    "frames = [X_test2_injury, X_test2_NOinjury]\n",
    "X_test2 = pd.concat(frames)\n",
    "\n",
    "frames = [X_train2_injury, X_train2_NOinjury]\n",
    "X_train2 = pd.concat(frames)\n",
    "\n",
    "frames = [y_test2_injury, y_test2_NOinjury]\n",
    "y_test2 = pd.concat(frames)\n",
    "\n",
    "y_test2['injury'].value_counts()\n",
    "\n",
    "frames = [y_train2_injury, y_train2_NOinjury]\n",
    "y_train2 = pd.concat(frames)\n",
    "\n",
    "y_train2['injury'].value_counts()\n",
    "\n",
    "### Oversampling con ADASYN en una mitad del test set\n",
    "\n",
    "X_resampled2, y_resampled2 = ADASYN(n_neighbors=3).fit_resample(X_train2, y_train2)\n",
    "\n",
    "#Check how many injury vs no injury\n",
    "y_resampled2['injury'].value_counts()"
   ]
  },
  {
   "cell_type": "code",
   "execution_count": 46,
   "id": "60333ca0",
   "metadata": {},
   "outputs": [
    {
     "name": "stderr",
     "output_type": "stream",
     "text": [
      "<ipython-input-46-d70eea8c3129>:3: DataConversionWarning: A column-vector y was passed when a 1d array was expected. Please change the shape of y to (n_samples,), for example using ravel().\n",
      "  model.fit(X_resampled2, y_resampled2)\n"
     ]
    },
    {
     "data": {
      "text/plain": [
       "RandomForestClassifier(random_state=0)"
      ]
     },
     "execution_count": 46,
     "metadata": {},
     "output_type": "execute_result"
    }
   ],
   "source": [
    "# Random Forest\n",
    "model = RandomForestClassifier(random_state=0)\n",
    "model.fit(X_resampled2, y_resampled2)"
   ]
  },
  {
   "cell_type": "code",
   "execution_count": 47,
   "id": "e2a545f6",
   "metadata": {},
   "outputs": [
    {
     "name": "stdout",
     "output_type": "stream",
     "text": [
      "{'max_depth': 1, 'n_estimators': 10, 'random_state': 1}\n"
     ]
    },
    {
     "name": "stderr",
     "output_type": "stream",
     "text": [
      "C:\\Users\\ferbm\\anaconda3\\envs\\computer_vision\\lib\\site-packages\\sklearn\\model_selection\\_search.py:880: DataConversionWarning: A column-vector y was passed when a 1d array was expected. Please change the shape of y to (n_samples,), for example using ravel().\n",
      "  self.best_estimator_.fit(X, y, **fit_params)\n"
     ]
    }
   ],
   "source": [
    "# Parameter Optimization\n",
    "param_grid = {\n",
    "    'n_estimators':[10, 10, 100],\n",
    "    'max_depth':[1, 10, 100],\n",
    "    'random_state':[1, 10]\n",
    "}\n",
    "\n",
    "optimal_params = GridSearchCV(\n",
    "    estimator=RandomForestClassifier(),\n",
    "    param_grid=param_grid,\n",
    "    scoring='roc_auc',\n",
    "    verbose=0,\n",
    "    n_jobs=10,\n",
    "    cv=3\n",
    ")\n",
    "\n",
    "optimal_params.fit(X_train, y_train)\n",
    "print(optimal_params.best_params_)"
   ]
  },
  {
   "cell_type": "code",
   "execution_count": 48,
   "id": "8bd1897a",
   "metadata": {},
   "outputs": [
    {
     "name": "stderr",
     "output_type": "stream",
     "text": [
      "<ipython-input-48-764e06e4b06f>:7: DataConversionWarning: A column-vector y was passed when a 1d array was expected. Please change the shape of y to (n_samples,), for example using ravel().\n",
      "  clf_RF.fit(X_resampled2, y_resampled2)\n"
     ]
    }
   ],
   "source": [
    "# Building Optimized Model\n",
    "clf_RF = RandomForestClassifier(max_depth=1,\n",
    "                           n_estimators=10,\n",
    "                           random_state=1,\n",
    "                           class_weight={0:1,1:120})\n",
    "\n",
    "clf_RF.fit(X_resampled2, y_resampled2)\n",
    "score = clf_RF.score(X_test2, y_test2)\n",
    "y_pred = clf_RF.predict(X_test2)"
   ]
  },
  {
   "cell_type": "code",
   "execution_count": 49,
   "id": "7cea40ce",
   "metadata": {},
   "outputs": [
    {
     "name": "stdout",
     "output_type": "stream",
     "text": [
      "RANDOM FOREST\n",
      "              precision    recall  f1-score   support\n",
      "\n",
      "           0       1.00      0.24      0.38       947\n",
      "           1       0.00      0.75      0.01         4\n",
      "\n",
      "    accuracy                           0.24       951\n",
      "   macro avg       0.50      0.49      0.20       951\n",
      "weighted avg       0.99      0.24      0.38       951\n",
      "\n"
     ]
    },
    {
     "data": {
      "image/png": "[encoded data removed]",
      "text/plain": [
       "<Figure size 640x480 with 2 Axes>"
      ]
     },
     "metadata": {},
     "output_type": "display_data"
    },
    {
     "data": {
      "image/png": "[encoded data removed]",
      "text/plain": [
       "<Figure size 640x480 with 1 Axes>"
      ]
     },
     "metadata": {},
     "output_type": "display_data"
    }
   ],
   "source": [
    "# Classification Report\n",
    "print('RANDOM FOREST')\n",
    "print(classification_report(y_test2, y_pred))\n",
    "    \n",
    "cf_matrix = confusion_matrix(y_test2, y_pred)\n",
    "ax = sns.heatmap(cf_matrix, annot=True, cmap='Blues')\n",
    "ax.set_title('Confusion Matrix');\n",
    "ax.set_xlabel('\\nPredicted Values')\n",
    "ax.set_ylabel('Actual Values ');\n",
    "\n",
    "## Ticket labels - List must be in alphabetical order\n",
    "ax.xaxis.set_ticklabels(['False','True'])\n",
    "ax.yaxis.set_ticklabels(['False','True'])\n",
    "\n",
    "## Display the visualization of the Confusion Matrix.\n",
    "plt.show()\n",
    "    \n",
    "plot_roc_curve(model, X_test2, y_test2)\n",
    "plt.show()"
   ]
  },
  {
   "cell_type": "code",
   "execution_count": null,
   "id": "6a58fbb1",
   "metadata": {},
   "outputs": [],
   "source": []
  }
 ],
 "metadata": {
  "kernelspec": {
   "display_name": "Python 3",
   "language": "python",
   "name": "python3"
  },
  "language_info": {
   "codemirror_mode": {
    "name": "ipython",
    "version": 3
   },
   "file_extension": ".py",
   "mimetype": "text/x-python",
   "name": "python",
   "nbconvert_exporter": "python",
   "pygments_lexer": "ipython3",
   "version": "3.8.11"
  }
 },
 "nbformat": 4,
 "nbformat_minor": 5
}
